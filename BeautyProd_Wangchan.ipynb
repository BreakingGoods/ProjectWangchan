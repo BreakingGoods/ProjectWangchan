{
 "cells": [
  {
   "cell_type": "code",
   "execution_count": 33,
   "id": "4b8404d1",
   "metadata": {},
   "outputs": [],
   "source": [
    "import numpy as np\n",
    "import pandas as pd \n",
    "import matplotlib.pyplot as plt\n",
    "plt.rc('font', family='Tahoma')  \n",
    "plt.rcParams['axes.unicode_minus'] = False  "
   ]
  },
  {
   "cell_type": "code",
   "execution_count": 34,
   "id": "d637f156",
   "metadata": {},
   "outputs": [],
   "source": [
    "df = pd.read_csv('dataset_main_15000.csv', sep=',', engine='python', names=['Comment', 'Sentiment'], skiprows=1)\n"
   ]
  },
  {
   "cell_type": "code",
   "execution_count": 35,
   "id": "e1a98b7e",
   "metadata": {},
   "outputs": [],
   "source": [
    "df_selected = df[['Comment','Sentiment']]"
   ]
  },
  {
   "cell_type": "code",
   "execution_count": 36,
   "id": "bc8df871",
   "metadata": {},
   "outputs": [
    {
     "name": "stdout",
     "output_type": "stream",
     "text": [
      "<bound method NDFrame.head of                                                  Comment Sentiment\n",
      "0      --''  เธอดีนะแค่ 4 ปี ของเราแอบชอบรุ่นพี่ ห่าง...       pos\n",
      "1       #ตุ๊กตาชานมไข่มุก #น่ารักน่ากินงั่มมม เรามาถึ...       pos\n",
      "2      \"ครูพลคงไม่ชินกับหน้าธรรมชาติของอินนะค่ะ อินต่...       pos\n",
      "3      \"รู้สึกภูมิใจกับสิ่งใหม่ที่ดีกว่าที่สุด\" นี้แห...       pos\n",
      "4      #2019 ดูไปร้อยรอบแล้วมั้งแต่ยังฟินอยู่เลยอ่าทำ...       pos\n",
      "...                                                  ...       ...\n",
      "14995  เฮียครับแฟนผมหัดถอยหลังเข้าซองบ่อยจะไปทำใบขับข...       neg\n",
      "14996  แฮงค์หวะ บอกแล้วกินเบียร์ช้างบวกอากาศร้อน นี่จ...       neg\n",
      "14997                  โฮกาเดนคนเดียวสี่ อิเหี้ยยยยยยยยย       neg\n",
      "14998  ไฮเนเก้น ปรับราคาลงเหมือนบุหรี่บ้างดิวะ เอาราค...       neg\n",
      "14999                          ไฮเนเก้นท์ ถูกกินแล้วขมคอ       neg\n",
      "\n",
      "[15000 rows x 2 columns]>\n"
     ]
    }
   ],
   "source": [
    "print(df_selected.head)"
   ]
  },
  {
   "cell_type": "code",
   "execution_count": 37,
   "id": "febbd430",
   "metadata": {},
   "outputs": [],
   "source": [
    "df = df.dropna(subset=['Comment', 'Sentiment'])\n"
   ]
  },
  {
   "cell_type": "code",
   "execution_count": 38,
   "id": "655c80b1",
   "metadata": {},
   "outputs": [],
   "source": [
    "df['Sentiment'] = df['Sentiment'].str.lower().str.strip()\n"
   ]
  },
  {
   "cell_type": "code",
   "execution_count": 39,
   "id": "c4175b18",
   "metadata": {},
   "outputs": [
    {
     "name": "stdout",
     "output_type": "stream",
     "text": [
      "Sentiment\n",
      "pos    5000\n",
      "neu    5000\n",
      "neg    5000\n",
      "Name: count, dtype: int64\n"
     ]
    }
   ],
   "source": [
    "sentiment_counts = df_selected['Sentiment'].value_counts()\n",
    "print(df['Sentiment'].value_counts())"
   ]
  },
  {
   "cell_type": "code",
   "execution_count": 40,
   "id": "a85a74ca",
   "metadata": {},
   "outputs": [
    {
     "name": "stdout",
     "output_type": "stream",
     "text": [
      "['pos' 'neu' 'neg']\n"
     ]
    }
   ],
   "source": [
    "print(df_selected['Sentiment'].unique())\n"
   ]
  },
  {
   "cell_type": "code",
   "execution_count": 41,
   "id": "0496a9d3",
   "metadata": {},
   "outputs": [],
   "source": [
    "df_selected = df[['Comment', 'Sentiment']].dropna()\n",
    "df_selected['Sentiment'] = df_selected['Sentiment'].str.lower().str.strip()\n",
    "\n",
    "label2id = {'neg': 0, 'neu': 1, 'pos': 2}\n",
    "df_selected['label'] = df_selected['Sentiment'].map(label2id)\n",
    "df_selected = df_selected[df_selected['label'].notnull()]\n"
   ]
  },
  {
   "cell_type": "code",
   "execution_count": 42,
   "id": "02755711",
   "metadata": {},
   "outputs": [],
   "source": [
    "from sklearn.model_selection import train_test_split\n",
    "\n",
    "train_texts, val_texts, train_labels, val_labels = train_test_split(\n",
    "    df_selected['Comment'].tolist(),\n",
    "    df_selected['label'].tolist(),\n",
    "    test_size=0.2,\n",
    "    random_state=42,\n",
    "    stratify=df_selected['label']\n",
    ")\n"
   ]
  },
  {
   "cell_type": "code",
   "execution_count": 43,
   "id": "ab95da24",
   "metadata": {},
   "outputs": [],
   "source": [
    "from transformers import AutoTokenizer\n",
    "\n",
    "tokenizer = AutoTokenizer.from_pretrained(\"airesearch/wangchanberta-base-att-spm-uncased\")\n",
    "\n",
    "train_encodings = tokenizer(train_texts, truncation=True, padding=True, max_length=128)\n",
    "val_encodings = tokenizer(val_texts, truncation=True, padding=True, max_length=128)"
   ]
  },
  {
   "cell_type": "code",
   "execution_count": 44,
   "id": "e71d7451",
   "metadata": {},
   "outputs": [
    {
     "name": "stderr",
     "output_type": "stream",
     "text": [
      "Some weights of CamembertForSequenceClassification were not initialized from the model checkpoint at airesearch/wangchanberta-base-att-spm-uncased and are newly initialized: ['classifier.dense.bias', 'classifier.dense.weight', 'classifier.out_proj.bias', 'classifier.out_proj.weight']\n",
      "You should probably TRAIN this model on a down-stream task to be able to use it for predictions and inference.\n"
     ]
    }
   ],
   "source": [
    "import torch\n",
    "\n",
    "class ThaiDataset(torch.utils.data.Dataset):\n",
    "    def __init__(self, encodings, labels):\n",
    "        self.encodings = encodings\n",
    "        self.labels = labels\n",
    "    \n",
    "    def __len__(self):\n",
    "        return len(self.labels)\n",
    "    \n",
    "    def __getitem__(self, idx):\n",
    "        return {key: torch.tensor(val[idx]) for key, val in self.encodings.items()} | {'labels': torch.tensor(self.labels[idx])}\n",
    "\n",
    "train_dataset = ThaiDataset(train_encodings, train_labels)\n",
    "val_dataset = ThaiDataset(val_encodings, val_labels)\n",
    "\n",
    "from transformers import AutoModelForSequenceClassification\n",
    "\n",
    "model = AutoModelForSequenceClassification.from_pretrained(\n",
    "    \"airesearch/wangchanberta-base-att-spm-uncased\",\n",
    "    num_labels=3\n",
    ")"
   ]
  },
  {
   "cell_type": "code",
   "execution_count": 45,
   "id": "7ab4119c",
   "metadata": {},
   "outputs": [
    {
     "name": "stderr",
     "output_type": "stream",
     "text": [
      "c:\\Users\\rungs\\anaconda3\\Lib\\site-packages\\torch\\nn\\modules\\module.py:1747: FutureWarning: `encoder_attention_mask` is deprecated and will be removed in version 4.55.0 for `CamembertSdpaSelfAttention.forward`.\n",
      "  return forward_call(*args, **kwargs)\n"
     ]
    },
    {
     "data": {
      "text/html": [
       "\n",
       "    <div>\n",
       "      \n",
       "      <progress value='3750' max='3750' style='width:300px; height:20px; vertical-align: middle;'></progress>\n",
       "      [3750/3750 24:38, Epoch 5/5]\n",
       "    </div>\n",
       "    <table border=\"1\" class=\"dataframe\">\n",
       "  <thead>\n",
       " <tr style=\"text-align: left;\">\n",
       "      <th>Epoch</th>\n",
       "      <th>Training Loss</th>\n",
       "      <th>Validation Loss</th>\n",
       "      <th>Accuracy</th>\n",
       "    </tr>\n",
       "  </thead>\n",
       "  <tbody>\n",
       "    <tr>\n",
       "      <td>1</td>\n",
       "      <td>0.631900</td>\n",
       "      <td>0.361804</td>\n",
       "      <td>0.873333</td>\n",
       "    </tr>\n",
       "    <tr>\n",
       "      <td>2</td>\n",
       "      <td>0.292500</td>\n",
       "      <td>0.315043</td>\n",
       "      <td>0.880333</td>\n",
       "    </tr>\n",
       "    <tr>\n",
       "      <td>3</td>\n",
       "      <td>0.160800</td>\n",
       "      <td>0.508062</td>\n",
       "      <td>0.880667</td>\n",
       "    </tr>\n",
       "    <tr>\n",
       "      <td>4</td>\n",
       "      <td>0.069600</td>\n",
       "      <td>0.625407</td>\n",
       "      <td>0.876000</td>\n",
       "    </tr>\n",
       "    <tr>\n",
       "      <td>5</td>\n",
       "      <td>0.034100</td>\n",
       "      <td>0.677707</td>\n",
       "      <td>0.878333</td>\n",
       "    </tr>\n",
       "  </tbody>\n",
       "</table><p>"
      ],
      "text/plain": [
       "<IPython.core.display.HTML object>"
      ]
     },
     "metadata": {},
     "output_type": "display_data"
    },
    {
     "name": "stderr",
     "output_type": "stream",
     "text": [
      "c:\\Users\\rungs\\anaconda3\\Lib\\site-packages\\torch\\nn\\modules\\module.py:1747: FutureWarning: `encoder_attention_mask` is deprecated and will be removed in version 4.55.0 for `CamembertSdpaSelfAttention.forward`.\n",
      "  return forward_call(*args, **kwargs)\n",
      "c:\\Users\\rungs\\anaconda3\\Lib\\site-packages\\torch\\nn\\modules\\module.py:1747: FutureWarning: `encoder_attention_mask` is deprecated and will be removed in version 4.55.0 for `CamembertSdpaSelfAttention.forward`.\n",
      "  return forward_call(*args, **kwargs)\n",
      "c:\\Users\\rungs\\anaconda3\\Lib\\site-packages\\torch\\nn\\modules\\module.py:1747: FutureWarning: `encoder_attention_mask` is deprecated and will be removed in version 4.55.0 for `CamembertSdpaSelfAttention.forward`.\n",
      "  return forward_call(*args, **kwargs)\n",
      "c:\\Users\\rungs\\anaconda3\\Lib\\site-packages\\torch\\nn\\modules\\module.py:1747: FutureWarning: `encoder_attention_mask` is deprecated and will be removed in version 4.55.0 for `CamembertSdpaSelfAttention.forward`.\n",
      "  return forward_call(*args, **kwargs)\n"
     ]
    },
    {
     "data": {
      "text/plain": [
       "TrainOutput(global_step=3750, training_loss=0.22145108947753905, metrics={'train_runtime': 1479.6989, 'train_samples_per_second': 40.549, 'train_steps_per_second': 2.534, 'total_flos': 3946701265920000.0, 'train_loss': 0.22145108947753905, 'epoch': 5.0})"
      ]
     },
     "execution_count": 45,
     "metadata": {},
     "output_type": "execute_result"
    }
   ],
   "source": [
    "from transformers import Trainer,TrainingArguments\n",
    "from sklearn.metrics import accuracy_score\n",
    "\n",
    "def compute_metrics(pred):\n",
    "    labels = pred.label_ids\n",
    "    preds = pred.predictions.argmax(-1)\n",
    "    acc = accuracy_score(labels, preds)\n",
    "    return {'accuracy': acc}\n",
    "\n",
    "training_args = TrainingArguments(\n",
    "    output_dir=\"./results\",\n",
    "    num_train_epochs=5,\n",
    "    per_device_train_batch_size=16,\n",
    "    per_device_eval_batch_size=16,\n",
    "    eval_strategy=\"epoch\",\n",
    "    save_strategy=\"epoch\",\n",
    "    logging_dir=\"./logs\",\n",
    "    logging_steps=500,\n",
    ")\n",
    "\n",
    "trainer = Trainer(\n",
    "    model=model,\n",
    "    args=training_args,\n",
    "    train_dataset=train_dataset,\n",
    "    eval_dataset=val_dataset,\n",
    "    compute_metrics=compute_metrics\n",
    ")\n",
    "\n",
    "trainer.train()\n"
   ]
  },
  {
   "cell_type": "code",
   "execution_count": 46,
   "id": "216b4598",
   "metadata": {},
   "outputs": [
    {
     "name": "stderr",
     "output_type": "stream",
     "text": [
      "c:\\Users\\rungs\\anaconda3\\Lib\\site-packages\\torch\\nn\\modules\\module.py:1747: FutureWarning: `encoder_attention_mask` is deprecated and will be removed in version 4.55.0 for `CamembertSdpaSelfAttention.forward`.\n",
      "  return forward_call(*args, **kwargs)\n"
     ]
    },
    {
     "data": {
      "text/html": [
       "\n",
       "    <div>\n",
       "      \n",
       "      <progress value='188' max='188' style='width:300px; height:20px; vertical-align: middle;'></progress>\n",
       "      [188/188 00:19]\n",
       "    </div>\n",
       "    "
      ],
      "text/plain": [
       "<IPython.core.display.HTML object>"
      ]
     },
     "metadata": {},
     "output_type": "display_data"
    },
    {
     "name": "stdout",
     "output_type": "stream",
     "text": [
      "ผลลัพธ์จาก validation set: {'eval_loss': 0.6777074337005615, 'eval_accuracy': 0.8783333333333333, 'eval_runtime': 19.8294, 'eval_samples_per_second': 151.29, 'eval_steps_per_second': 9.481, 'epoch': 5.0}\n"
     ]
    }
   ],
   "source": [
    "results = trainer.evaluate()\n",
    "print(\"ผลลัพธ์จาก validation set:\", results)"
   ]
  },
  {
   "cell_type": "code",
   "execution_count": 49,
   "id": "2b1097ff",
   "metadata": {},
   "outputs": [
    {
     "name": "stdout",
     "output_type": "stream",
     "text": [
      "ข้อความ: บริการดีมากๆเลย\n",
      "ผลการวิเคราะห์: pos\n"
     ]
    },
    {
     "name": "stderr",
     "output_type": "stream",
     "text": [
      "c:\\Users\\rungs\\anaconda3\\Lib\\site-packages\\torch\\nn\\modules\\module.py:1747: FutureWarning: `encoder_attention_mask` is deprecated and will be removed in version 4.55.0 for `CamembertSdpaSelfAttention.forward`.\n",
      "  return forward_call(*args, **kwargs)\n"
     ]
    }
   ],
   "source": [
    "from transformers import AutoTokenizer, AutoModelForSequenceClassification\n",
    "\n",
    "# โหลด tokenizer และโมเดลจาก checkpoint ที่เทรนเสร็จ\n",
    "checkpoint_path = \"./results/checkpoint-3750\"  # เปลี่ยนตรงนี้ถ้าอยากใช้ checkpoint อื่น\n",
    "tokenizer = AutoTokenizer.from_pretrained(\"airesearch/wangchanberta-base-att-spm-uncased\")\n",
    "model = AutoModelForSequenceClassification.from_pretrained(\"./results/checkpoint-3750\")\n",
    "\n",
    "# ฟังก์ชันทำนาย\n",
    "def predict_sentiment(text):\n",
    "    model.eval()\n",
    "    inputs = tokenizer(text, return_tensors=\"pt\", truncation=True, padding=True, max_length=128)\n",
    "    with torch.no_grad():\n",
    "        outputs = model(**inputs)\n",
    "    logits = outputs.logits\n",
    "    predicted_class = torch.argmax(logits, dim=1).item()\n",
    "    label_map = {0: 'neg', 1: 'neu', 2: 'pos'}\n",
    "    return label_map[predicted_class]\n",
    "\n",
    "# ใช้งาน\n",
    "text = \"บริการดีมากๆเลย\"\n",
    "print(\"ข้อความ:\", text)\n",
    "print(\"ผลการวิเคราะห์:\", predict_sentiment(text))\n"
   ]
  }
 ],
 "metadata": {
  "kernelspec": {
   "display_name": "base",
   "language": "python",
   "name": "python3"
  },
  "language_info": {
   "codemirror_mode": {
    "name": "ipython",
    "version": 3
   },
   "file_extension": ".py",
   "mimetype": "text/x-python",
   "name": "python",
   "nbconvert_exporter": "python",
   "pygments_lexer": "ipython3",
   "version": "3.12.7"
  }
 },
 "nbformat": 4,
 "nbformat_minor": 5
}
